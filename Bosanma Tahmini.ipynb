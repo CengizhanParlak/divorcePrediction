{
 "cells": [
  {
   "cell_type": "markdown",
   "metadata": {},
   "source": [
    "## **Makine Öğrenmesi Yöntemleri İle Boşanma Tahmini** \n",
    "\n",
    "\n",
    "### **Cengizhan PARLAK**\n",
    "           \n",
    "\n",
    "### **Öz**\n",
    "\n",
    "Bu projede, çift terapisini temel alan boşanma ölçeği kullanılarak boşanma tahminlemesi yapılmıştır. Veri setinde bulunan bireylerin 84’ü (%49) boşanmış, 86’sı (%51) hala evli olanlardan oluşmaktadır. Bu projede başarı ölçümü için Decision Tree, Random Forest, Support Vector Machine ve Navie Bayes algoritmaları kullanılmıştır. Aynı zamanda boşanmayı en çok etkileyen öznitelikler de bulunup algoritmaların sadece bu özniteliklerin kullanılmasıyla elde edilen başarı karşılaştırılmıştır. \n",
    "\n",
    "### **1. GİRİŞ**\n",
    "\n",
    "Boşanma, karı ve koca mahkeme kararı ile birbirinden ayrılmak anlamına gelmektedir [1]. Ekonomik İşbirliği ve Kalkınma Örgütü'nün (OECD) 33 üye ülkesinin boşanma verilerine bakıldığında, Türkiye'nin artan boşanma oranına sahip 12 ülke arasında olduğu görülmektedir. Bu projede kullanılan veri seti Boşanma Tahminleri Ölçeği’ne göre Yontem and İlhan(2017, 2018) tarafından Gottman çift terapisi baz alınarak (Gottman,2014; Gottman and Gottman, 2012) oluşturulmuştur [2]. \n",
    "\n",
    "Gottman sağlıklı ilişkiler yöntemi, psikolog John M. Gottman ve eşi psikolog Julie Gottman tarafından yürütülen klinik uygulama ile ilişkilerin öncü çalışmalarına dayanan, çiftlere dayalı bir terapi ve eğitim şeklidir. John Gottman tarafından yürütülen yaklaşık 40 yıllık araştırmada, yaşamın her aşaması boyunca her tür çift arasındaki ilişkilerin sürmesi için gereken unsurları tanımlamaya çalışılmıştır. Sonuç olarak, yapılandırılmış terapi anlayışı, becerileri geliştirmeye odaklanır, böylece partnerler birbirlerine düşkünlüğü ve hayranlığını koruyabilir, ihtiyaçlarının karşılanmasını sağlamak için birbirlerine yönelebilir (özellikle zarar verirken), çatışmayı yönetebilir ve hayallerini gerçekleştirebilir. Kronik çatışmalarda sıkışmış, aldatma ile başa çıkma ya da diğer yıkıcı süreçler geçirmiş çiftler için sağlıklı bir işleyişin yoludur. Tüm terapi, çiftin etkileşim modeline dayanır ve partnerler birlikte ilişki kurma, problem çözme becerilerini öğrenir ve uygular. Gottman odaklı terapi bazen kriz dönemindeki çiftler için iki ile dört gün boyunca yoğun biçinde uygulanır [3].\n",
    "\n",
    "Veri setinde çiftlerin birbirleriyle olan ilişkileri, birbirlerini nasıl gördükleri, birbirleri hakkında ne düşündükleri, çiftlerin hayata bakış açıları, bir olay karşısında vereceği tepkiler gibi bir ilişkiye etki edebilecek çoğu kriter toplanmıştır.\n",
    "\n",
    "Bu projede Makine Öğrenmesi yöntemleri kullanılarak boşanma tahminlemesi yapılmıştır. Bir ilişkiyi en çok etkileyen öznitelikler bulunacak ve ilişkiyi nasıl etkiledikleri ortaya çıkarılmıştır.\n",
    "\n",
    "### **2. YÖNTEMLER**\n",
    "\n",
    "**2.1. Veri Seti**\n",
    "\n",
    "Veri setini oluşturan bireylerin 84’ü (%49) boşanmış 86’sı (%51) hala evli çiftlerdir. Bireylerin 84’ü (%49) erkek 86’sı (%51) kadınlardan oluşmaktadır. Bireylerin yaşları 20 ile 63 arasında değişmektedir. Veriler Türkiye’nin yedi bölgesinden toplanmış olmakla birlikte çoğunluğu Karadeniz bölgesi (79 kişi) oluşturmaktadır. Bireylerin 74’ü (%43.5) aşk evliliği yapmış, 96’sı (%56.5) görücü usülü evlenmiştir. Bireylerin 127’sinin (%74.7) çocuğu varken 43’ünün (%25.3) çocuğu yoktur. 18’i (%10.58) ilkokul, 15’i (%8.8) ortaokul, 33’ü (%19.41) lise, 88’i (%51.76) üniversite, 15’i (%8.8) yüksek lisans mezunudur. Aylık gelirleri ise 34’ünün (%20) 2000 TL altı, 54’ünün (%31.76) 2001-3000tl arası, 28’inin (%16.47) 3001-4000 TL arası, 54’ünün (%31.76) 4000 TL üzerindedir . \n",
    "Veri seti 54 öznitelik ve 170 örnekten oluşmaktadır. Veri setine ait öznitelikler Tablo 1’de görülmektedir.\n",
    "\n",
    "| Öznitelikler | Açıklama | \n",
    "| --- | --- | \n",
    "| Atr1 | If one of us apologizes when our discussion deteriorates, the discussion ends. | \n",
    "| Atr2 |I know we can ignore our differences, even if things get hard sometimes.  | \n",
    "| Atr3 | When we need it, we can take our discussions with my spouse from the beginning and correct it. | \n",
    "| Atr4 | When I discuss with my spouse, to contact him will eventually work. | \n",
    "| Atr5 | The time I spent with my wife is special for us.\n",
    " | \n",
    "| Atr6 |  We don't have time at home as partners.\n",
    "| \n",
    "| Atr7 | We are like two strangers who share the same environment at home rather than family.\n",
    " | \n",
    "| Atr8 | I enjoy our holidays with my wife.\n",
    " | \n",
    "| Atr9 | I enjoy traveling with my wife.\n",
    " | \n",
    "| Atr10 | Most of our goals are common to my spouse.\n",
    " | \n",
    "| Atr11| I think that one day in the future, when I look back, I see that my spouse and I have been in harmony with each other.\n",
    " | \n",
    "| Atr12 | My spouse and I have similar values in terms of personal freedom.\n",
    " | \n",
    "| Atr13 | My spouse and I have similar sense of entertainment.\n",
    " | \n",
    "| Atr14 |Most of our goals for people (children, friends, etc.) are the same.\n",
    "  | \n",
    "| Atr15 |Our dreams with my spouse are similar and harmonious.\n",
    "  | \n",
    "| Atr16 |We're compatible with my spouse about what love should be.\n",
    "  | \n",
    "| Atr17 |We share the same views about being happy in our life with my spouse\n",
    "  | \n",
    "| Atr18 | My spouse and I have similar ideas about how marriage should be\n",
    " | \n",
    "| Atr19 |My spouse and I have similar ideas about how roles should be in marriage\n",
    "  | \n",
    "| Atr20 | My spouse and I have similar values in trust.\n",
    " | \n",
    "| Atr21 | I know exactly what my wife likes.\n",
    " | \n",
    "| Atr22 |I know how my spouse wants to be taken care of when she/he sick.\n",
    "  | \n",
    "| Atr23 |I know my spouse's favorite food.\n",
    "  | \n",
    "| Atr24 | I can tell you what kind of stress my spouse is facing in her/his life.\n",
    " | \n",
    "| Atr25 |I have knowledge of my spouse's inner world.\n",
    "  | \n",
    "| Atr26 |I know my spouse's basic anxieties.\n",
    "  | \n",
    "| Atr27 |I know what my spouse's current sources of stress are.\n",
    "  | \n",
    "| Atr28 |I know my spouse's hopes and wishes.\n",
    "  | \n",
    "| Atr29 | I know my spouse very well.\n",
    " | \n",
    "| Atr30 | I know my spouse's friends and their social relationships.\n",
    " | \n",
    "| Atr31 | I feel aggressive when I argue with my spouse.\n",
    " | \n",
    "| Atr32 |When discussing with my spouse, I usually use expressions such as ‘you always’ or ‘you never’ .\n",
    "  | \n",
    "| Atr33 | I can use negative statements about my spouse's personality during our discussions.\n",
    " | \n",
    "| Atr34 | I can use offensive expressions during our discussions.\n",
    " | \n",
    "| Atr35 | I can insult my spouse during our discussions.\n",
    " | \n",
    "| Atr36 | I can be humiliating when we discussions.\n",
    " | \n",
    "| Atr37 | My discussion with my spouse is not calm.\n",
    " | \n",
    "| Atr38 | I hate my spouse's way of open a subject.\n",
    " | \n",
    "| Atr39 |Our discussions often occur suddenly.\n",
    "  | \n",
    "| Atr40 | We're just starting a discussion before I know what's going on.\n",
    " | \n",
    "| Atr41 | When I talk to my spouse about something, my calm suddenly breaks.\n",
    " | \n",
    "| Atr42 | When I argue with my spouse, ı only go out and I don't say a word.\n",
    " | \n",
    "| Atr43 |I mostly stay silent to calm the environment a little bit.\n",
    "  | \n",
    "| Atr44 | Sometimes I think it's good for me to leave home for a while.\n",
    " | \n",
    "| Atr45 |I'd rather stay silent than discuss with my spouse.\n",
    "  | \n",
    "| Atr46 |Even if I'm right in the discussion, I stay silent to hurt my spouse.\n",
    "  | \n",
    "| Atr47 | When I discuss with my spouse, I stay silent because I am afraid of not being able to control my anger.\n",
    " | \n",
    "| Atr48 |I feel right in our discussions.\n",
    "  | \n",
    "| Atr49 | I have nothing to do with what I've been accused of.\n",
    " | \n",
    "| Atr50 |I'm not actually the one who's guilty about what I'm accused of.\n",
    "  | \n",
    "| Atr51 | I'm not the one who's wrong about problems at home.\n",
    " | \n",
    "| Atr52 |I wouldn't hesitate to tell my spouse about her/his inadequacy.\n",
    "  | \n",
    "| Atr53 |When I discuss, I remind my spouse of her/his inadequacy.\n",
    "  | \n",
    "| Atr54 | I'm not afraid to tell my spouse about her/his incompetence.\n",
    " | \n",
    " \n",
    " ### 2.2. Sınıflandırma Yöntemleri\n",
    " \n",
    "\n",
    "\n",
    "\n",
    "\n",
    "\n",
    "**Naïve Bayes** sınıflandırıcısının temeli Bayes teoremine dayanır. Tembel (Lazy) bir öğrenme algoritmasıdır aynı zamanda dengesiz veri setlerinde de çalışabilir. Algoritmanın çalışma şekli bir eleman için her durumun olasılığını hesaplar ve olasılık değeri en yüksek olana göre sınıflandırır. Az bir eğitim verisiyle bile başarılı işler çıkartabilir. Naïve Bayes sınıflandırıcısı Bayes teoreminin bağımsızlık önermesiyle basitleştirilmiş halidir.\n",
    "\n",
    "<img style=\"float: center;\"  width=300 src=\"img/naive.png\"> \n",
    "\n",
    "\n",
    "P(A|B): B olayı gerçekleştiği durumda A olayının meydana gelme olasılığıdır(koşullu olasılık).\n",
    " \n",
    "P(B|A): A olayı gerçekleştiği durumda B olayının meydana gelme olasılığıdır.\n",
    "\n",
    "P(A) ve P(B): A ve B olaylarının önsel olasılıklarıdır. \n",
    "\n",
    "\n",
    "\n",
    "\n",
    "<img style=\"float: center;\" src=\"img/svm.png\"> \n",
    "\n",
    "\n",
    "**SVM (Support Vector Machine)**, temel olarak iki sınıfa ait verileri birbirinden en uygun şekilde ayırmak için kullanılır. Bunun için karar sınırları yada diğer bir ifadeyle hiper düzlemler belirlenir.  Sınıflandırma için bir düzlemde bulunan iki grup arasında bir sınır çizilerek iki grubu ayırmak mümkündür. Bu sınırın çizileceği yer ise iki grubun da üyelerine en uzak olan yer olmalıdır. SVM bu sınırın nasıl çizileceğini belirler.\n",
    "\n",
    "SMV’ler hiçbir parametre almayan (nonparametric) sınıflayıcılardır. Dağılım hakkında herhangi bir ön bilgi veya varsayım yoktur. Eğitim setlerinde girdi ve çıktılar eşlenir. Eşler aracılığıyla test setlerinde ve yeri veri setlerinde girdi değişkenini sınıflayacak karar fonksiyonları elde edilir. SVM’de girdi verisi iki şekilde ayrılabilir; Doğrusal (Linear) ve Doğrusal Olmayan (NonLinear).\n",
    "\n",
    "Doğrusal SVM; verileri ayırabilecek sonsuz sayıda doğru içerisinden marjini en yüksek olan doğrunun seçilmesi işlemidir.\n",
    "\n",
    "Doğrusal Olmayan SVM; Doğrusal olmayan haritalama (mapping) ile orijinal çalışma verisi yüksek boyuta dönüştürülür. Verinin taşındığı yeni boyutta marjini en uygun ayırıcı düzlemi araştırma işlemidir.\n",
    "\n",
    "\n",
    "<img style=\"float: center;\"  width=500 src=\"img/RandomForest.png\"> \n",
    "\n",
    "\n",
    "\n",
    "**Rastgele orman (Random Forest)**, birleştirilmiş karar ağaçları temelli sınıflandırma ve regresyon yöntemidir. Verilen bir örnek için orman içindeki her bir ağaçta sınıflandırma işlemi gerçekleştirilir. Sonrasında orman, oylama işlemi ile örneğin sınıfını belirler. Rastgele orman algoritmasında birden çok karar ağacının ortaya koyduğu sonuçlar bir araya getirilerek, orman adına tek bir karar verilerek daha güvenilir tahminler gerçekleştirilmektedir. Rastgele orman algoritmasının aşırı öğrenme problemi yoktur .\n",
    "\n",
    "\n",
    "<img style=\"float: center;\"  width=300 src=\"img/decisionTree.png\"> \n",
    "\n",
    "\n",
    "**Karar Ağacı (Decision Tree)**, Ağaç tabanlı öğrenme algoritmaları, en çok kullanılan gözetimli öğrenme algorimalarındandır. Genel itibariyle ele alınan bütün problemlerin (sınıflandırma ve regression) çözümüne uyarlanabilirler. Önceden tanımlanmış bir hedef değişkene sahiplerdir. Yapıları itibariyle en tepeden en aşağı inen bir strateji sunmaktadırlar (Kantardzic, 2011; Çelik U., Akçetin E., ve Gök M. , 2017). \n",
    "\n",
    "Bir karar ağacı, çok sayıda kayıt içeren bir veri kümesini, bir dizi karar kuralları uygulayarak daha küçük kümelere bölmek için kullanılan bir yapıdır. Yani basit karar verme adımları uygulanarak, büyük miktarlardaki kayıtları, çok küçük kayıt gruplarına bölerek kullanılan bir yapıdır.\n",
    "\n",
    "### 3. DENEYSEL SONUÇLAR\n",
    "\n",
    "Boşanma veri setine sınıflandırma yöntemleri uygulanmıştır."
   ]
  },
  {
   "cell_type": "markdown",
   "metadata": {},
   "source": [
    "**Gerekli kütüphanelerin yüklenmesi**"
   ]
  },
  {
   "cell_type": "code",
   "execution_count": 45,
   "metadata": {},
   "outputs": [],
   "source": [
    "import numpy as np\n",
    "import pandas as pd\n",
    "import matplotlib.pyplot as plt\n",
    "from sklearn.model_selection import train_test_split\n",
    "from sklearn.naive_bayes import GaussianNB\n",
    "from sklearn.metrics import confusion_matrix\n",
    "from sklearn import svm\n",
    "from sklearn.metrics import classification_report\n",
    "from sklearn.tree import DecisionTreeClassifier\n",
    "from sklearn.ensemble import RandomForestClassifier\n",
    "from sklearn.metrics import precision_score\n",
    "from sklearn.metrics import recall_score\n",
    "from sklearn.metrics import f1_score"
   ]
  },
  {
   "cell_type": "markdown",
   "metadata": {},
   "source": [
    "**Veri setinin hazırlanması ve önişleme**"
   ]
  },
  {
   "cell_type": "code",
   "execution_count": 46,
   "metadata": {},
   "outputs": [],
   "source": [
    "dataset = pd.read_csv('shuffle_divorce.csv')\n",
    "X= dataset.iloc[:,0:54]\n",
    "Y= dataset.iloc[:,54]\n",
    "X_train,X_test,Y_train,Y_test=train_test_split(X, Y,test_size=0.4)"
   ]
  },
  {
   "cell_type": "markdown",
   "metadata": {},
   "source": [
    "**Confusion matrix**"
   ]
  },
  {
   "cell_type": "code",
   "execution_count": 47,
   "metadata": {},
   "outputs": [],
   "source": [
    "import itertools\n",
    "def plot_confusion_matrix(cm, classes,title='Confusion Matrix',cmap=plt.cm.Blues):\n",
    "    \n",
    "    plt.imshow(cm,interpolation='nearest',cmap=cmap)\n",
    "    plt.title(title)\n",
    "    plt.colorbar()\n",
    "    tick_marks=np.arange(len(classes))\n",
    "    plt.xticks(tick_marks,classes,rotation=45)\n",
    "    plt.yticks(tick_marks,classes)\n",
    "    print('Confusion matrix')\n",
    "    print(cm)\n",
    "    thresh=cm.max()/2.\n",
    "    for i,j in itertools.product(range(cm.shape[0]),range(cm.shape[1])):\n",
    "        plt.text(j,i,cm[i,j],\n",
    "                horizontalalignment=\"center\",\n",
    "                color=\"brown\" if cm[i,j]>thresh else \"brown\")\n",
    "    plt.tight_layout()\n",
    "    plt.ylabel('Gerçek değerler')\n",
    "    plt.xlabel('Tahmin değerleri')"
   ]
  },
  {
   "cell_type": "markdown",
   "metadata": {},
   "source": [
    "**Random Forest ile öznitelik seçimi**"
   ]
  },
  {
   "cell_type": "code",
   "execution_count": 48,
   "metadata": {
    "scrolled": false
   },
   "outputs": [
    {
     "name": "stderr",
     "output_type": "stream",
     "text": [
      "C:\\Users\\kaan\\AppData\\Local\\Continuum\\anaconda3\\lib\\site-packages\\sklearn\\ensemble\\forest.py:245: FutureWarning: The default value of n_estimators will change from 10 in version 0.20 to 100 in 0.22.\n",
      "  \"10 in version 0.20 to 100 in 0.22.\", FutureWarning)\n"
     ]
    },
    {
     "data": {
      "image/png": "[encoded data removed]",
      "text/plain": [
       "<Figure size 1440x720 with 1 Axes>"
      ]
     },
     "metadata": {
      "needs_background": "light"
     },
     "output_type": "display_data"
    }
   ],
   "source": [
    "clf=RandomForestClassifier()\n",
    "clf.fit(X_train,Y_train)\n",
    "predictors=list(X_train)\n",
    "feat_imp = pd.Series(clf.feature_importances_, predictors).sort_values(ascending=False)\n",
    "feat_imp.plot(kind='bar', title='Boşanmayı Etkileyen faktörler',figsize=(20,10))\n",
    "plt.xlabel('Öznitelikler')\n",
    "plt.ylabel('Öznitelik Önemliliği')\n",
    "plt.show()"
   ]
  },
  {
   "cell_type": "markdown",
   "metadata": {},
   "source": [
    "**Seçilen Özniteliklerin listesi**"
   ]
  },
  {
   "cell_type": "code",
   "execution_count": 49,
   "metadata": {},
   "outputs": [
    {
     "data": {
      "text/html": [
       "<div>\n",
       "<style scoped>\n",
       "    .dataframe tbody tr th:only-of-type {\n",
       "        vertical-align: middle;\n",
       "    }\n",
       "\n",
       "    .dataframe tbody tr th {\n",
       "        vertical-align: top;\n",
       "    }\n",
       "\n",
       "    .dataframe thead th {\n",
       "        text-align: right;\n",
       "    }\n",
       "</style>\n",
       "<table border=\"1\" class=\"dataframe\">\n",
       "  <thead>\n",
       "    <tr style=\"text-align: right;\">\n",
       "      <th></th>\n",
       "      <th>Öznitelikler</th>\n",
       "      <th>değer</th>\n",
       "      <th>Açıklama</th>\n",
       "    </tr>\n",
       "  </thead>\n",
       "  <tbody>\n",
       "    <tr>\n",
       "      <td>0</td>\n",
       "      <td>Atr17</td>\n",
       "      <td>0.192287</td>\n",
       "      <td>We share the same views about being happy in o...</td>\n",
       "    </tr>\n",
       "    <tr>\n",
       "      <td>1</td>\n",
       "      <td>Atr8</td>\n",
       "      <td>0.174047</td>\n",
       "      <td>I enjoy our holidays with my wife.</td>\n",
       "    </tr>\n",
       "    <tr>\n",
       "      <td>2</td>\n",
       "      <td>Atr36</td>\n",
       "      <td>0.107385</td>\n",
       "      <td>I can be humiliating when we discussions.</td>\n",
       "    </tr>\n",
       "    <tr>\n",
       "      <td>3</td>\n",
       "      <td>Atr9</td>\n",
       "      <td>0.106992</td>\n",
       "      <td>I enjoy traveling with my wife.</td>\n",
       "    </tr>\n",
       "    <tr>\n",
       "      <td>4</td>\n",
       "      <td>Atr16</td>\n",
       "      <td>0.106729</td>\n",
       "      <td>We're compatible with my spouse about what lov...</td>\n",
       "    </tr>\n",
       "    <tr>\n",
       "      <td>5</td>\n",
       "      <td>Atr28</td>\n",
       "      <td>0.097377</td>\n",
       "      <td>I know my spouse's hopes and wishes.</td>\n",
       "    </tr>\n",
       "    <tr>\n",
       "      <td>6</td>\n",
       "      <td>Atr40</td>\n",
       "      <td>0.095353</td>\n",
       "      <td>We're just starting a discussion before I know...</td>\n",
       "    </tr>\n",
       "    <tr>\n",
       "      <td>7</td>\n",
       "      <td>Atr25</td>\n",
       "      <td>0.086043</td>\n",
       "      <td>I have knowledge of my spouse's inner world.</td>\n",
       "    </tr>\n",
       "    <tr>\n",
       "      <td>8</td>\n",
       "      <td>Atr39</td>\n",
       "      <td>0.007589</td>\n",
       "      <td>Our discussions often occur suddenly.</td>\n",
       "    </tr>\n",
       "    <tr>\n",
       "      <td>9</td>\n",
       "      <td>Atr10</td>\n",
       "      <td>0.007297</td>\n",
       "      <td>Most of our goals are common to my spouse.</td>\n",
       "    </tr>\n",
       "    <tr>\n",
       "      <td>10</td>\n",
       "      <td>Atr18</td>\n",
       "      <td>0.003849</td>\n",
       "      <td>My spouse and I have similar ideas about how m...</td>\n",
       "    </tr>\n",
       "    <tr>\n",
       "      <td>11</td>\n",
       "      <td>Atr15</td>\n",
       "      <td>0.003840</td>\n",
       "      <td>Our dreams with my spouse are similar and harm...</td>\n",
       "    </tr>\n",
       "    <tr>\n",
       "      <td>12</td>\n",
       "      <td>Atr31</td>\n",
       "      <td>0.003822</td>\n",
       "      <td>I feel aggressive when I argue with my spouse.</td>\n",
       "    </tr>\n",
       "    <tr>\n",
       "      <td>13</td>\n",
       "      <td>Atr45</td>\n",
       "      <td>0.002623</td>\n",
       "      <td>I'd rather stay silent than discuss with my sp...</td>\n",
       "    </tr>\n",
       "    <tr>\n",
       "      <td>14</td>\n",
       "      <td>Atr3</td>\n",
       "      <td>0.001973</td>\n",
       "      <td>When we need it, we can take our discussions w...</td>\n",
       "    </tr>\n",
       "    <tr>\n",
       "      <td>15</td>\n",
       "      <td>Atr5</td>\n",
       "      <td>0.001891</td>\n",
       "      <td>The time I spent with my wife is special for us.</td>\n",
       "    </tr>\n",
       "    <tr>\n",
       "      <td>16</td>\n",
       "      <td>Atr20</td>\n",
       "      <td>0.000904</td>\n",
       "      <td>My spouse and I have similar values in trust.</td>\n",
       "    </tr>\n",
       "  </tbody>\n",
       "</table>\n",
       "</div>"
      ],
      "text/plain": [
       "   Öznitelikler     değer                                           Açıklama\n",
       "0         Atr17  0.192287  We share the same views about being happy in o...\n",
       "1          Atr8  0.174047                 I enjoy our holidays with my wife.\n",
       "2         Atr36  0.107385          I can be humiliating when we discussions.\n",
       "3          Atr9  0.106992                    I enjoy traveling with my wife.\n",
       "4         Atr16  0.106729  We're compatible with my spouse about what lov...\n",
       "5         Atr28  0.097377               I know my spouse's hopes and wishes.\n",
       "6         Atr40  0.095353  We're just starting a discussion before I know...\n",
       "7         Atr25  0.086043       I have knowledge of my spouse's inner world.\n",
       "8         Atr39  0.007589              Our discussions often occur suddenly.\n",
       "9         Atr10  0.007297         Most of our goals are common to my spouse.\n",
       "10        Atr18  0.003849  My spouse and I have similar ideas about how m...\n",
       "11        Atr15  0.003840  Our dreams with my spouse are similar and harm...\n",
       "12        Atr31  0.003822     I feel aggressive when I argue with my spouse.\n",
       "13        Atr45  0.002623  I'd rather stay silent than discuss with my sp...\n",
       "14         Atr3  0.001973  When we need it, we can take our discussions w...\n",
       "15         Atr5  0.001891   The time I spent with my wife is special for us.\n",
       "16        Atr20  0.000904      My spouse and I have similar values in trust."
      ]
     },
     "execution_count": 49,
     "metadata": {},
     "output_type": "execute_result"
    }
   ],
   "source": [
    "explanatory = dataset.drop('Class', axis=1)\n",
    "dependent = dataset[['Class']]\n",
    "factors = open('divorce.txt').read()\n",
    "factors = factors.replace('\\t', '\\n').split('\\n')\n",
    "\n",
    "predictors=list(explanatory)\n",
    "Attributes = pd.DataFrame({\n",
    "    'Öznitelikler': predictors,\n",
    "    'Açıklama': factors})\n",
    "feat_impDF = pd.DataFrame(feat_imp, columns=['değer'])\n",
    "feat_impDF.reset_index(inplace=True)\n",
    "feat_impDF.columns = ['Öznitelikler', 'değer']\n",
    "feats = pd.merge(feat_impDF,Attributes, on='Öznitelikler')\n",
    "most_important =feats[feats['değer']>0]\n",
    "most_important"
   ]
  },
  {
   "cell_type": "markdown",
   "metadata": {},
   "source": [
    "**Bazı özniteliklerin sınıflandırma ile ilişkisi**"
   ]
  },
  {
   "cell_type": "code",
   "execution_count": 50,
   "metadata": {},
   "outputs": [
    {
     "data": {
      "text/plain": [
       "Text(0, 0.5, 'Frekans ')"
      ]
     },
     "execution_count": 50,
     "metadata": {},
     "output_type": "execute_result"
    },
    {
     "data": {
      "image/png": "[encoded data removed]",
      "text/plain": [
       "<Figure size 432x288 with 1 Axes>"
      ]
     },
     "metadata": {
      "needs_background": "light"
     },
     "output_type": "display_data"
    }
   ],
   "source": [
    "%matplotlib inline\n",
    "pd.crosstab(dataset.Atr40,dataset.Class).plot(kind='bar')\n",
    "plt.title('Atr40 Boşanmadaki dağılımı')\n",
    "plt.xlabel('Atr40')\n",
    "plt.ylabel('Frekans ')"
   ]
  },
  {
   "cell_type": "code",
   "execution_count": 51,
   "metadata": {},
   "outputs": [
    {
     "data": {
      "text/plain": [
       "Text(0, 0.5, 'Frekans ')"
      ]
     },
     "execution_count": 51,
     "metadata": {},
     "output_type": "execute_result"
    },
    {
     "data": {
      "image/png": "[encoded data removed]",
      "text/plain": [
       "<Figure size 432x288 with 1 Axes>"
      ]
     },
     "metadata": {
      "needs_background": "light"
     },
     "output_type": "display_data"
    }
   ],
   "source": [
    "%matplotlib inline\n",
    "pd.crosstab(dataset.Atr11,dataset.Class).plot(kind='bar')\n",
    "plt.title('Atr11 Boşanmadaki dağılımı')\n",
    "plt.xlabel('Atr11')\n",
    "plt.ylabel('Frekans ')"
   ]
  },
  {
   "cell_type": "markdown",
   "metadata": {},
   "source": [
    "**Seçilen özniteliklerden oluşan Eğitim verisi**"
   ]
  },
  {
   "cell_type": "code",
   "execution_count": 52,
   "metadata": {},
   "outputs": [],
   "source": [
    "X_train2, X_test2, Y_train2, Y_test2 = X_train[most_important.Öznitelikler], X_test[most_important.Öznitelikler], Y_train, Y_test\n",
    "\n",
    "y2 = Y_train2\n",
    "x2 = X_train2"
   ]
  },
  {
   "cell_type": "markdown",
   "metadata": {},
   "source": [
    "### **Naive Bayes**"
   ]
  },
  {
   "cell_type": "code",
   "execution_count": 53,
   "metadata": {},
   "outputs": [
    {
     "name": "stdout",
     "output_type": "stream",
     "text": [
      "Naive Bayes train accuracy oranı: %100.00\n",
      "Naive Bayes test accuracy oranı: %94.12\n",
      "Confusion matrix\n",
      "[[33  4]\n",
      " [ 0 31]]\n",
      "Precision değeri %0.89\n",
      "              precision    recall  f1-score   support\n",
      "\n",
      "           0       1.00      0.89      0.94        37\n",
      "           1       0.89      1.00      0.94        31\n",
      "\n",
      "    accuracy                           0.94        68\n",
      "   macro avg       0.94      0.95      0.94        68\n",
      "weighted avg       0.95      0.94      0.94        68\n",
      "\n"
     ]
    },
    {
     "data": {
      "image/png": "[encoded data removed]",
      "text/plain": [
       "<Figure size 432x288 with 2 Axes>"
      ]
     },
     "metadata": {
      "needs_background": "light"
     },
     "output_type": "display_data"
    }
   ],
   "source": [
    "NB = GaussianNB()\n",
    "\n",
    "#Naive Bayes sisteminde train verisinin eğitime sokulması\n",
    "NB.fit(x2, y2)\n",
    "cm_plot_labels = ['Evli','Boşanmış']\n",
    "\n",
    "#Naive bayes algoritmasına göre train ve test datalarının accuracy oranlarının hesaplanması\n",
    "NBtrainAcc=NB.score(x2,y2)*100\n",
    "NBtestAcc = NB.score(X_test2,Y_test2)*100\n",
    "print(\"Naive Bayes train accuracy oranı: %{:.2f}\".format(NBtrainAcc))\n",
    "print(\"Naive Bayes test accuracy oranı: %{:.2f}\".format(NBtestAcc))\n",
    "\n",
    "#Sistemin test verisi üzerinden tahminde bulunarak sınıflandırma yapması\n",
    "Y_predict = NB.predict(X_test2)\n",
    "cm = confusion_matrix(Y_test2, Y_predict)\n",
    "plot_confusion_matrix(cm,cm_plot_labels,title='Confusion Matrix')\n",
    "\n",
    "#test verileriyle beklenen çıkışların karşılaştırılldığı confusion matrixten gelen verilerle oluşturulan sınıflandırma raporu\n",
    "NBprecision = precision_score(Y_test2, Y_predict)\n",
    "NBrecall = recall_score(Y_test2, Y_predict)\n",
    "NBf1 = f1_score(Y_test2, Y_predict)\n",
    "print(\"Precision değeri %{:.2f}\".format(NBprecision))\n",
    "NBrapor=classification_report(Y_test2, Y_predict)\n",
    "print(NBrapor)"
   ]
  },
  {
   "cell_type": "markdown",
   "metadata": {},
   "source": [
    "### **Support Vector Machine**"
   ]
  },
  {
   "cell_type": "code",
   "execution_count": 54,
   "metadata": {},
   "outputs": [
    {
     "name": "stdout",
     "output_type": "stream",
     "text": [
      "SVM train accuracy oranı: %100.00\n",
      "SVM test accuracy oranı: %98.53\n",
      "Confusion matrix\n",
      "[[37  0]\n",
      " [ 1 30]]\n",
      "              precision    recall  f1-score   support\n",
      "\n",
      "           0       0.97      1.00      0.99        37\n",
      "           1       1.00      0.97      0.98        31\n",
      "\n",
      "    accuracy                           0.99        68\n",
      "   macro avg       0.99      0.98      0.99        68\n",
      "weighted avg       0.99      0.99      0.99        68\n",
      "\n"
     ]
    },
    {
     "data": {
      "image/png": "[encoded data removed]",
      "text/plain": [
       "<Figure size 432x288 with 2 Axes>"
      ]
     },
     "metadata": {
      "needs_background": "light"
     },
     "output_type": "display_data"
    }
   ],
   "source": [
    "SVM = svm.SVC(kernel='linear')\n",
    "\n",
    "#SVM train verisinin eğitime sokulması\n",
    "SVM.fit(x2, y2)\n",
    "Y_predict=SVM.predict(X_test2)\n",
    "\n",
    "#SVM algoritmasına göre train ve test datalarının accuracy oranlarının hesaplanması\n",
    "SVMtrainAcc=SVM.score(x2,y2)*100\n",
    "SVMtestAcc = SVM.score(X_test2,Y_test2)*100\n",
    "print(\"SVM train accuracy oranı: %{:.2f}\".format(SVMtrainAcc))\n",
    "print(\"SVM test accuracy oranı: %{:.2f}\".format(SVMtestAcc))\n",
    "\n",
    "#Sistemin test verisi üzerinden tahminde bulunarak sınıflandırma yapması\n",
    "cm_plot_labels = ['Evli','Boşanmış']\n",
    "cm = confusion_matrix(Y_test2, Y_predict)\n",
    "plot_confusion_matrix(cm,cm_plot_labels,title='Confusion Matrix')\n",
    "\n",
    "#test verileriyle beklenen çıkışların karşılaştırılldığı confusion matrixten gelen verilerle oluşturulan sınıflandırma raporu\n",
    "SVMprecision = precision_score(Y_test2, Y_predict)\n",
    "SVMrecall = recall_score(Y_test2, Y_predict)\n",
    "SVMf1 = f1_score(Y_test2, Y_predict)\n",
    "SVMrapor=classification_report(Y_test2, Y_predict)\n",
    "print(SVMrapor)"
   ]
  },
  {
   "cell_type": "markdown",
   "metadata": {},
   "source": [
    "### **Decision Tree**"
   ]
  },
  {
   "cell_type": "code",
   "execution_count": 55,
   "metadata": {},
   "outputs": [
    {
     "name": "stdout",
     "output_type": "stream",
     "text": [
      "Decision tree train accuracy oranı: %100.00\n",
      "Decision tree test accuracy oranı: %89.71\n",
      "Confusion matrix\n",
      "[[32  5]\n",
      " [ 2 29]]\n",
      "              precision    recall  f1-score   support\n",
      "\n",
      "           0       0.94      0.86      0.90        37\n",
      "           1       0.85      0.94      0.89        31\n",
      "\n",
      "    accuracy                           0.90        68\n",
      "   macro avg       0.90      0.90      0.90        68\n",
      "weighted avg       0.90      0.90      0.90        68\n",
      "\n"
     ]
    },
    {
     "data": {
      "image/png": "[encoded data removed]",
      "text/plain": [
       "<Figure size 432x288 with 2 Axes>"
      ]
     },
     "metadata": {
      "needs_background": "light"
     },
     "output_type": "display_data"
    }
   ],
   "source": [
    "DT = DecisionTreeClassifier()\n",
    "\n",
    "#Decision Tree train verisinin eğitime sokulması\n",
    "DT.fit(x2,y2)\n",
    "Y_predict=DT.predict(X_test2)\n",
    "\n",
    "#Decision Tree algoritmasına göre train ve test datalarının accuracy oranlarının hesaplanması\n",
    "DTtrainAcc=DT.score(x2,y2)*100\n",
    "DTtestAcc = DT.score(X_test2,Y_test2)*100\n",
    "print(\"Decision tree train accuracy oranı: %{:.2f}\".format(DTtrainAcc))\n",
    "print(\"Decision tree test accuracy oranı: %{:.2f}\".format(DTtestAcc))\n",
    "\n",
    "#Sistemin test verisi üzerinden tahminde bulunarak sınıflandırma yapması\n",
    "cm_plot_labels = ['Evli','Boşanmış']\n",
    "cm = confusion_matrix(Y_test2, Y_predict)\n",
    "plot_confusion_matrix(cm,cm_plot_labels,title='Confusion Matrix')\n",
    "\n",
    "#test verileriyle beklenen çıkışların karşılaştırılldığı confusion matrixten gelen verilerle oluşturulan sınıflandırma raporu\n",
    "DTprecision = precision_score(Y_test2, Y_predict)\n",
    "DTrecall = recall_score(Y_test2, Y_predict)\n",
    "DTf1 = f1_score(Y_test2, Y_predict)\n",
    "DTrapor=classification_report(Y_test2, Y_predict)\n",
    "print(DTrapor)"
   ]
  },
  {
   "cell_type": "markdown",
   "metadata": {},
   "source": [
    "### **Random Forest**"
   ]
  },
  {
   "cell_type": "code",
   "execution_count": 56,
   "metadata": {},
   "outputs": [
    {
     "name": "stderr",
     "output_type": "stream",
     "text": [
      "C:\\Users\\kaan\\AppData\\Local\\Continuum\\anaconda3\\lib\\site-packages\\sklearn\\ensemble\\forest.py:245: FutureWarning: The default value of n_estimators will change from 10 in version 0.20 to 100 in 0.22.\n",
      "  \"10 in version 0.20 to 100 in 0.22.\", FutureWarning)\n"
     ]
    },
    {
     "name": "stdout",
     "output_type": "stream",
     "text": [
      "Random Forest train accuracy oranı: %100.00\n",
      "Random Forest test accuracy oranı: %98.53\n",
      "Confusion matrix\n",
      "[[37  0]\n",
      " [ 1 30]]\n",
      "              precision    recall  f1-score   support\n",
      "\n",
      "           0       0.97      1.00      0.99        37\n",
      "           1       1.00      0.97      0.98        31\n",
      "\n",
      "    accuracy                           0.99        68\n",
      "   macro avg       0.99      0.98      0.99        68\n",
      "weighted avg       0.99      0.99      0.99        68\n",
      "\n"
     ]
    },
    {
     "data": {
      "image/png": "[encoded data removed]",
      "text/plain": [
       "<Figure size 432x288 with 2 Axes>"
      ]
     },
     "metadata": {
      "needs_background": "light"
     },
     "output_type": "display_data"
    }
   ],
   "source": [
    "RF = RandomForestClassifier()\n",
    "\n",
    "#Random Forest train verisinin eğitime sokulması\n",
    "RF.fit(x2, y2)\n",
    "Y_predict = RF.predict(X_test2)\n",
    "\n",
    "#Random Forest algoritmasına göre train ve test datalarının accuracy oranlarının hesaplanması\n",
    "RFtrainAcc=RF.score(x2,y2)*100\n",
    "RFtestAcc = RF.score(X_test2,Y_test2)*100\n",
    "print(\"Random Forest train accuracy oranı: %{:.2f}\".format(RFtrainAcc))\n",
    "print(\"Random Forest test accuracy oranı: %{:.2f}\".format(RFtestAcc))\n",
    "\n",
    "#Sistemin test verisi üzerinden tahminde bulunarak sınıflandırma yapması\n",
    "cm_plot_labels = ['Evli','Boşanmış']\n",
    "cm = confusion_matrix(Y_test2, Y_predict)\n",
    "plot_confusion_matrix(cm,cm_plot_labels,title='Confusion Matrix')\n",
    "\n",
    "#test verileriyle beklenen çıkışların karşılaştırılldığı confusion matrixten gelen verilerle oluşturulan sınıflandırma raporu\n",
    "RFprecision = precision_score(Y_test2, Y_predict)\n",
    "RFrecall = recall_score(Y_test2, Y_predict)\n",
    "RFf1 = f1_score(Y_test2, Y_predict)\n",
    "RFrapor=classification_report(Y_test2, Y_predict)\n",
    "print(RFrapor)"
   ]
  },
  {
   "cell_type": "markdown",
   "metadata": {},
   "source": [
    "### **Kullanılan Algoritmalardan Elde Edilen Doğruluk Oranları**"
   ]
  },
  {
   "cell_type": "code",
   "execution_count": 57,
   "metadata": {},
   "outputs": [
    {
     "name": "stdout",
     "output_type": "stream",
     "text": [
      "Naive Bayes test accuracy oranı:            %94.12\n",
      "Support Vector Machine test accuracy oranı: %98.53\n",
      "Decision Tree test accuracy oranı:          %89.71\n",
      "Random Forest test accuracy oranı:          %98.53\n"
     ]
    }
   ],
   "source": [
    "print(\"Naive Bayes test accuracy oranı:            %{:.2f}\".format(NBtestAcc))\n",
    "print(\"Support Vector Machine test accuracy oranı: %{:.2f}\".format(SVMtestAcc))\n",
    "print(\"Decision Tree test accuracy oranı:          %{:.2f}\".format(DTtestAcc))\n",
    "print(\"Random Forest test accuracy oranı:          %{:.2f}\".format(RFtestAcc))\n"
   ]
  },
  {
   "cell_type": "markdown",
   "metadata": {},
   "source": [
    "### **Algortimaların Karşılaştırılması**"
   ]
  },
  {
   "cell_type": "code",
   "execution_count": 58,
   "metadata": {},
   "outputs": [
    {
     "name": "stdout",
     "output_type": "stream",
     "text": [
      "                         Accuracy       Precision değeri      Recall değeri     f-score\n",
      "Navie Bayes:              %94.12               %0.89                %1.00         %0.94          \n",
      "Support Vector Machine:   %98.53               %1.00                %0.97         %0.98          \n",
      "Decision Tree:            %89.71               %1.00                %0.97         %0.98          \n",
      "Random Forest:            %98.53               %1.00                %0.97         %0.98          \n"
     ]
    }
   ],
   "source": [
    "print(\"                         Accuracy       Precision değeri      Recall değeri     f-score\") \n",
    "print(\"Navie Bayes: \", \"            %{:.2f}\".format(NBtestAcc),\"              %{:.2f}\".format(NBprecision), \"               %{:.2f}      \".format(NBrecall),\"  %{:.2f}          \".format(NBf1))\n",
    "print(\"Support Vector Machine: \",\" %{:.2f}\".format(SVMtestAcc),\"              %{:.2f}\".format(SVMprecision), \"               %{:.2f}      \".format(SVMrecall),\"  %{:.2f}          \".format(SVMf1))\n",
    "print(\"Decision Tree: \",\"          %{:.2f}\".format(DTtestAcc),\"              %{:.2f}\".format(SVMprecision), \"               %{:.2f}      \".format(SVMrecall),\"  %{:.2f}          \".format(SVMf1))\n",
    "print(\"Random Forest: \",\"          %{:.2f}\".format(RFtestAcc),\"              %{:.2f}\".format(SVMprecision), \"               %{:.2f}      \".format(SVMrecall),\"  %{:.2f}          \".format(SVMf1))\n"
   ]
  },
  {
   "cell_type": "markdown",
   "metadata": {},
   "source": [
    "### **SONUÇ**\n",
    "Sonuç olarak boşanma veri kümesine random forest öznitelik seçme yöntemi uygulanması sonucu en etkili özniteliklerin önem değerleri bulunmuştur. Boşanma veri kümesine öznitelik seçme yöntemi uygulandıktan sonra tespit edilen özniteliklerden oluşan veri kümesi üzerinde sınıflandırma yöntemleri uygulanmıştır.\n",
    "\n",
    "Projede kullanılan dört farklı algoritmanın(Random forest, Decision tree, Support vector machine, Navie bayes) başarı oranları birbiriyle kıyaslanmıştır. Boşanma veri kümesine random forest öznitelik seçme yöntemi kullanılarak en etkili öznitelikler seçilmiş ve sınıflandırma yöntemleri uygulandığında en yüksek başarı oranı Random forest ve Support vector machine algoritmalarında bulunmuştur. \n",
    "\n",
    "Ancak veri setinin küçük olmasından dolayı algoritmalar hem yüksek doğruluk oranı vermekte hem de birbirine çok yakın olmaktadırlar. Veriyi eğitim ve test verisi şeklinde ayırma(split) oranı değiştirilerek eğitime sokulduğunda da sadece ufak değişimler gözlenmiştir.     \n",
    "\n",
    "### **KAYNAK DOSYALAR**\n",
    "Bu çalışmada kullanılan veri setine https://archive.ics.uci.edu/ml/datasets/Divorce+Predictors+data+set# web adresinden ulaşılabilir.\n",
    "\n",
    "### **KAYNAKLAR**\n",
    "**[1]**  \"Boşanmak\", \"sozluk.gov.tr\", Türk Dil Kurumu.\n",
    "\n",
    "**[2]**  Yöntem, M. K., Adem, K., İlhan, T. ve Kılıçarslan, S.(2019). \"Divorce Prediction Using Correlation Based Feature Selection and Artificial Neural Networks\", Nevşehir Hacı Bektaş Veli Üniversitesi SBE Dergisi, 9(1), 259-273.\n",
    "\n",
    "**[3]**  https://gulizaltinbasak.com/gottman-metodu-ile-cift-terapisi/\n"
   ]
  },
  {
   "cell_type": "code",
   "execution_count": null,
   "metadata": {},
   "outputs": [],
   "source": []
  }
 ],
 "metadata": {
  "kernelspec": {
   "display_name": "Python 3",
   "language": "python",
   "name": "python3"
  },
  "language_info": {
   "codemirror_mode": {
    "name": "ipython",
    "version": 3
   },
   "file_extension": ".py",
   "mimetype": "text/x-python",
   "name": "python",
   "nbconvert_exporter": "python",
   "pygments_lexer": "ipython3",
   "version": "3.8.5"
  }
 },
 "nbformat": 4,
 "nbformat_minor": 2
}
